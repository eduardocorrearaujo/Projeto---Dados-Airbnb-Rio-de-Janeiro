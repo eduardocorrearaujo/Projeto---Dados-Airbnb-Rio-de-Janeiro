{
  "nbformat": 4,
  "nbformat_minor": 0,
  "metadata": {
    "colab": {
      "name": "Proj.Analisando os Dados do Airbnb (Rio de Janeiro).ipynb",
      "provenance": [],
      "collapsed_sections": [],
      "include_colab_link": true
    },
    "kernelspec": {
      "name": "python3",
      "display_name": "Python 3"
    }
  },
  "cells": [
    {
      "cell_type": "markdown",
      "metadata": {
        "id": "view-in-github",
        "colab_type": "text"
      },
      "source": [
        "<a href=\"https://colab.research.google.com/github/eduardocorrearaujo/Projeto---Dados-Airbnb-Rio-de-Janeiro/blob/master/Proj_Analisando_os_Dados_do_Airbnb_(Rio_de_Janeiro).ipynb\" target=\"_parent\"><img src=\"https://colab.research.google.com/assets/colab-badge.svg\" alt=\"Open In Colab\"/></a>"
      ]
    },
    {
      "cell_type": "markdown",
      "metadata": {
        "id": "kLI0gJtzDGuQ",
        "colab_type": "text"
      },
      "source": [
        "\n",
        "\n",
        "# Análise dos Dados do Airbnb - *Rio de Janeiro, Brazil*\n",
        "\n",
        "O [Airbnb](https://www.airbnb.com.br/) é um serviço online nos quais as pessoas podem anunciar seus imóveis, casas, apartamentos ou parte deles, como apenas um quarto para serem alugados por um período de tempo.\n",
        "\n",
        "Por oferecer hospedagens mais baratas, quando comparado com redes de hotéis e pousadas e permitir que o dono de um imóvel faça uma renda extra o Airbnb se espalhou por várias cidades do mundo. Apesar de haver resistência em alguns locais, com o argumento que ele pode prejudicar a rede hoteleira, o site continua em funcionamento. \n",
        "\n",
        "Uma das iniciativas do Airbnb é disponibilizar dados do site, para algumas das principais cidades do mundo. Esses dados podem ser acessados em [Inside Airbnb](http://insideairbnb.com/get-the-data.html).\n",
        "<center><img alt=\"Analisando Airbnb\" width=\"10%\" src=\"https://www.area360.com.au/wp-content/uploads/2017/09/airbnb-logo.jpg\"></center>\n",
        "\n",
        "**Neste *notebook*, iremos analisar os dados referentes à cidade do Rio de Janeiro, e ver quais insights podem ser extraídos a partir dos dados diponíveis.**"
      ]
    },
    {
      "cell_type": "markdown",
      "metadata": {
        "id": "0zxQHhIUDF_2",
        "colab_type": "text"
      },
      "source": [
        "## Obtenção dos Dados\n"
      ]
    },
    {
      "cell_type": "code",
      "metadata": {
        "id": "Vhp2wMPgJ6zX",
        "colab_type": "code",
        "colab": {}
      },
      "source": [
        "# importar os pacotes necessarios\n",
        "import pandas as pd\n",
        "import matplotlib.pyplot as plt\n",
        "import seaborn as sns\n",
        "\n",
        "sns.set()\n",
        "%matplotlib inline\n",
        "%config lnlineBackend.figure_format = 'svg'\n"
      ],
      "execution_count": 37,
      "outputs": []
    },
    {
      "cell_type": "markdown",
      "metadata": {
        "id": "3SrwuWENQBQF",
        "colab_type": "text"
      },
      "source": [
        "Os dados utilizados nessa análise podem ser encontrados [nesse link](http://data.insideairbnb.com/brazil/rj/rio-de-janeiro/2020-04-20/visualisations/listings.csv). Abaixo irei importar esse conjunto de dados. "
      ]
    },
    {
      "cell_type": "code",
      "metadata": {
        "id": "tUmoAT8DLQ5T",
        "colab_type": "code",
        "colab": {}
      },
      "source": [
        "# importar o arquivo listings.csv para um DataFrame\n",
        "df = pd.read_csv(\"http://data.insideairbnb.com/brazil/rj/rio-de-janeiro/2020-04-20/visualisations/listings.csv\")"
      ],
      "execution_count": 38,
      "outputs": []
    },
    {
      "cell_type": "markdown",
      "metadata": {
        "id": "qb5By2nIMS6m",
        "colab_type": "text"
      },
      "source": [
        "## Análise dos Dados\n",
        "\n",
        "Nessa análise iremos trabalhar com os dados reduzidos. Abaixo há uma descrição de todas as variáveis do nosso *DataFrame*. \n"
      ]
    },
    {
      "cell_type": "markdown",
      "metadata": {
        "id": "RYgvuebKNg8-",
        "colab_type": "text"
      },
      "source": [
        "**Dicionário das variáveis**\n",
        "\n",
        "* `id` - Número de id gerado para identificar o imóvel.\n",
        "* `name` - Nome da propriedade anunciada.\n",
        "* `host_id` - Número de id do proprietário (anfitrião) da propriedade.\n",
        "* `host_name` - Nome do anfitrião.\n",
        "* `neighbourhood_group` - Esta coluna não contém nenhum valor válido.\n",
        "* `neighbourhood` - Nome do bairro.\n",
        "* `latitude` - Coordenada da latitude da propriedade.\n",
        "* `longitude` - coordenada da logintude da propriedade.\n",
        "* `room_type` - Informa o tipo de quarto que é oferecido.\n",
        "* `price` - Preço para alugar o imóvel.\n",
        "* `minimum_nights` - quantidade mínima de noites para reservar.\n",
        "* `number_of_reviews`- Número de reviews que a propriedade possui.\n",
        "* `last_review` - Data do último review.\n",
        "* `reviews_per_month` - Quantidade de reviews por mês.\n",
        "* `calculated_host_listings_count` - Quantidade de imóveis do mesmo anfitrião.\n",
        "* `availability_365` - Número de dias de disponibilidade dentro de 365 dias.\n",
        "\n",
        "\n",
        "Antes de iniciar qualquer análise, vamos verificar a cara do nosso *dataset*, analisando as 5 primeiras entradas."
      ]
    },
    {
      "cell_type": "code",
      "metadata": {
        "id": "2iS_dae7YQtO",
        "colab_type": "code",
        "colab": {
          "base_uri": "https://localhost:8080/",
          "height": 479
        },
        "outputId": "689437f6-9c8a-43b8-b3a4-812e93761c8e"
      },
      "source": [
        "# mostrar as 5 primeiras entradas\n",
        "df.head()\n",
        "\n",
        "#o valor dentro do parênteses indica o número de entradas que irão aparecer. \n",
        "# quando nenhur valor digitado ele assume que esse valor é 5 por default.\n",
        "#Para printar as 5 últimas entradas digite 'df.tail()', do mesmo modo o valor \n",
        "#dentro do parênteses indica o número de entradas que irão aparecer.\n"
      ],
      "execution_count": 39,
      "outputs": [
        {
          "output_type": "execute_result",
          "data": {
            "text/html": [
              "<div>\n",
              "<style scoped>\n",
              "    .dataframe tbody tr th:only-of-type {\n",
              "        vertical-align: middle;\n",
              "    }\n",
              "\n",
              "    .dataframe tbody tr th {\n",
              "        vertical-align: top;\n",
              "    }\n",
              "\n",
              "    .dataframe thead th {\n",
              "        text-align: right;\n",
              "    }\n",
              "</style>\n",
              "<table border=\"1\" class=\"dataframe\">\n",
              "  <thead>\n",
              "    <tr style=\"text-align: right;\">\n",
              "      <th></th>\n",
              "      <th>id</th>\n",
              "      <th>name</th>\n",
              "      <th>host_id</th>\n",
              "      <th>host_name</th>\n",
              "      <th>neighbourhood_group</th>\n",
              "      <th>neighbourhood</th>\n",
              "      <th>latitude</th>\n",
              "      <th>longitude</th>\n",
              "      <th>room_type</th>\n",
              "      <th>price</th>\n",
              "      <th>minimum_nights</th>\n",
              "      <th>number_of_reviews</th>\n",
              "      <th>last_review</th>\n",
              "      <th>reviews_per_month</th>\n",
              "      <th>calculated_host_listings_count</th>\n",
              "      <th>availability_365</th>\n",
              "    </tr>\n",
              "  </thead>\n",
              "  <tbody>\n",
              "    <tr>\n",
              "      <th>0</th>\n",
              "      <td>17878</td>\n",
              "      <td>Very Nice 2Br - Copacabana - WiFi</td>\n",
              "      <td>68997</td>\n",
              "      <td>Matthias</td>\n",
              "      <td>NaN</td>\n",
              "      <td>Copacabana</td>\n",
              "      <td>-22.96592</td>\n",
              "      <td>-43.17896</td>\n",
              "      <td>Entire home/apt</td>\n",
              "      <td>218</td>\n",
              "      <td>5</td>\n",
              "      <td>251</td>\n",
              "      <td>2020-04-06</td>\n",
              "      <td>2.11</td>\n",
              "      <td>1</td>\n",
              "      <td>0</td>\n",
              "    </tr>\n",
              "    <tr>\n",
              "      <th>1</th>\n",
              "      <td>21280</td>\n",
              "      <td>Renovated Modern Apt. Near Beach</td>\n",
              "      <td>81163</td>\n",
              "      <td>Jules</td>\n",
              "      <td>NaN</td>\n",
              "      <td>Ipanema</td>\n",
              "      <td>-22.98467</td>\n",
              "      <td>-43.19611</td>\n",
              "      <td>Entire home/apt</td>\n",
              "      <td>422</td>\n",
              "      <td>5</td>\n",
              "      <td>94</td>\n",
              "      <td>2020-03-22</td>\n",
              "      <td>1.25</td>\n",
              "      <td>1</td>\n",
              "      <td>69</td>\n",
              "    </tr>\n",
              "    <tr>\n",
              "      <th>2</th>\n",
              "      <td>25026</td>\n",
              "      <td>Beautiful Modern Decorated Studio in Copa</td>\n",
              "      <td>102840</td>\n",
              "      <td>Viviane</td>\n",
              "      <td>NaN</td>\n",
              "      <td>Copacabana</td>\n",
              "      <td>-22.97712</td>\n",
              "      <td>-43.19045</td>\n",
              "      <td>Entire home/apt</td>\n",
              "      <td>158</td>\n",
              "      <td>7</td>\n",
              "      <td>238</td>\n",
              "      <td>2020-02-15</td>\n",
              "      <td>1.98</td>\n",
              "      <td>3</td>\n",
              "      <td>95</td>\n",
              "    </tr>\n",
              "    <tr>\n",
              "      <th>3</th>\n",
              "      <td>31560</td>\n",
              "      <td>NICE &amp; COZY 1BDR - IPANEMA BEACH</td>\n",
              "      <td>135635</td>\n",
              "      <td>Renata</td>\n",
              "      <td>NaN</td>\n",
              "      <td>Ipanema</td>\n",
              "      <td>-22.98302</td>\n",
              "      <td>-43.21427</td>\n",
              "      <td>Entire home/apt</td>\n",
              "      <td>342</td>\n",
              "      <td>2</td>\n",
              "      <td>282</td>\n",
              "      <td>2020-03-02</td>\n",
              "      <td>2.37</td>\n",
              "      <td>1</td>\n",
              "      <td>0</td>\n",
              "    </tr>\n",
              "    <tr>\n",
              "      <th>4</th>\n",
              "      <td>35636</td>\n",
              "      <td>Cosy flat close to Ipanema beach</td>\n",
              "      <td>153232</td>\n",
              "      <td>Patricia</td>\n",
              "      <td>NaN</td>\n",
              "      <td>Ipanema</td>\n",
              "      <td>-22.98816</td>\n",
              "      <td>-43.19359</td>\n",
              "      <td>Entire home/apt</td>\n",
              "      <td>479</td>\n",
              "      <td>2</td>\n",
              "      <td>181</td>\n",
              "      <td>2020-03-15</td>\n",
              "      <td>2.29</td>\n",
              "      <td>1</td>\n",
              "      <td>358</td>\n",
              "    </tr>\n",
              "  </tbody>\n",
              "</table>\n",
              "</div>"
            ],
            "text/plain": [
              "      id  ... availability_365\n",
              "0  17878  ...                0\n",
              "1  21280  ...               69\n",
              "2  25026  ...               95\n",
              "3  31560  ...                0\n",
              "4  35636  ...              358\n",
              "\n",
              "[5 rows x 16 columns]"
            ]
          },
          "metadata": {
            "tags": []
          },
          "execution_count": 39
        }
      ]
    },
    {
      "cell_type": "markdown",
      "metadata": {
        "id": "6-B_qtEaYEd-",
        "colab_type": "text"
      },
      "source": [
        "### **Q1. Quantos atributos (variáveis) e quantas entradas o nosso conjunto de dados possui? Quais os tipos das variáveis?**\n",
        "\n",
        "Vamos identificar quais são as variáveis e quantas são as entradas de nosso conjunto de dados. \n",
        "\n",
        "É muito importante verificar qual é o tipo de variáveis, visto que dependendo da análise desejada pode ser necessário alterá-la. Como, por exemplo, transformar uma variável `int` no tipo `float`."
      ]
    },
    {
      "cell_type": "code",
      "metadata": {
        "id": "TFRK0tniLV-G",
        "colab_type": "code",
        "colab": {
          "base_uri": "https://localhost:8080/",
          "height": 357
        },
        "outputId": "239d83f7-4cd1-4975-c746-62ba3abb5b41"
      },
      "source": [
        "# identificar o volume de dados do DataFrame\n",
        "print(\"Entradas:\\t {}\".format(df.shape[0]))\n",
        "print(\"Variáveis:\\t {}\\n\". format(df.shape[1]))\n",
        "\n",
        "# verificar as 5 primeiras entradas do dataset\n",
        "display(df.dtypes)\n"
      ],
      "execution_count": 40,
      "outputs": [
        {
          "output_type": "stream",
          "text": [
            "Entradas:\t 35870\n",
            "Variáveis:\t 16\n",
            "\n"
          ],
          "name": "stdout"
        },
        {
          "output_type": "display_data",
          "data": {
            "text/plain": [
              "id                                  int64\n",
              "name                               object\n",
              "host_id                             int64\n",
              "host_name                          object\n",
              "neighbourhood_group               float64\n",
              "neighbourhood                      object\n",
              "latitude                          float64\n",
              "longitude                         float64\n",
              "room_type                          object\n",
              "price                               int64\n",
              "minimum_nights                      int64\n",
              "number_of_reviews                   int64\n",
              "last_review                        object\n",
              "reviews_per_month                 float64\n",
              "calculated_host_listings_count      int64\n",
              "availability_365                    int64\n",
              "dtype: object"
            ]
          },
          "metadata": {
            "tags": []
          }
        }
      ]
    },
    {
      "cell_type": "markdown",
      "metadata": {
        "id": "yz1urSUGW9iE",
        "colab_type": "text"
      },
      "source": [
        "### **Q2. Qual a porcentagem de valores ausentes no *dataset*?**\n",
        "\n",
        "A qualidade de um *dataset* está diretamente relacionada à quantidade de valores ausentes. É importante entender logo no início se esses valores nulos são significativos comparados ao total de entradas. Esse fator afeta diretamente a qualidade da análise.\n"
      ]
    },
    {
      "cell_type": "code",
      "metadata": {
        "id": "plk2FjbCXOqP",
        "colab_type": "code",
        "colab": {
          "base_uri": "https://localhost:8080/",
          "height": 306
        },
        "outputId": "e799a06a-a283-490d-dbaa-4fc4553e95bc"
      },
      "source": [
        "# ordenar em ordem decrescente as variáveis por seus valores ausentes\n",
        "(df.isnull().sum() / df.shape[0]).sort_values(ascending=False)"
      ],
      "execution_count": 41,
      "outputs": [
        {
          "output_type": "execute_result",
          "data": {
            "text/plain": [
              "neighbourhood_group               1.000000\n",
              "reviews_per_month                 0.411653\n",
              "last_review                       0.411653\n",
              "name                              0.001617\n",
              "host_name                         0.000139\n",
              "availability_365                  0.000000\n",
              "calculated_host_listings_count    0.000000\n",
              "number_of_reviews                 0.000000\n",
              "minimum_nights                    0.000000\n",
              "price                             0.000000\n",
              "room_type                         0.000000\n",
              "longitude                         0.000000\n",
              "latitude                          0.000000\n",
              "neighbourhood                     0.000000\n",
              "host_id                           0.000000\n",
              "id                                0.000000\n",
              "dtype: float64"
            ]
          },
          "metadata": {
            "tags": []
          },
          "execution_count": 41
        }
      ]
    },
    {
      "cell_type": "markdown",
      "metadata": {
        "id": "Tqx0tWGNaIrm",
        "colab_type": "text"
      },
      "source": [
        "Veja que a coluna `neighbourhood_group` possui todos os seus valores nulos, logo não é relevante analisá-la, assim irei removê-la do *DataFrame*. Além disso, as colunas last_review e reviews_per_month possuem cerca de 40% dos dados ausentes, logo esses dados são muito menos confiáveis que os outros, portanto, se forem analisados, essa análise deve ser feita com mais cuidado."
      ]
    },
    {
      "cell_type": "code",
      "metadata": {
        "id": "R3Ad9Kggffld",
        "colab_type": "code",
        "colab": {}
      },
      "source": [
        "df = df.drop(\"neighbourhood_group\", axis = 1)"
      ],
      "execution_count": 42,
      "outputs": []
    },
    {
      "cell_type": "markdown",
      "metadata": {
        "id": "iHXvvHIxaoNc",
        "colab_type": "text"
      },
      "source": [
        "### **Q3. Qual o tipo de distribuição das variáveis?** \n",
        "\n",
        "Através do histograma conseguimos obter um ideia da distribuição de cada uma das variáveis. Além disso, podemos observar a presença de *outliers* em nossos dados."
      ]
    },
    {
      "cell_type": "code",
      "metadata": {
        "id": "q2wWSfeRbmBo",
        "colab_type": "code",
        "colab": {
          "base_uri": "https://localhost:8080/",
          "height": 882
        },
        "outputId": "2f9dabc8-e317-474c-afd5-90e5bd9815c1"
      },
      "source": [
        "# plotar o histograma das variáveis numéricas\n",
        "df.hist(figsize=(20,15), grid=False);"
      ],
      "execution_count": 43,
      "outputs": [
        {
          "output_type": "display_data",
          "data": {
            "image/png": "[encoded data removed]",
            "text/plain": [
              "<Figure size 1440x1080 with 12 Axes>"
            ]
          },
          "metadata": {
            "tags": [],
            "needs_background": "light"
          }
        }
      ]
    },
    {
      "cell_type": "markdown",
      "metadata": {
        "id": "pvK4eLrubpB7",
        "colab_type": "text"
      },
      "source": [
        ""
      ]
    },
    {
      "cell_type": "markdown",
      "metadata": {
        "id": "_DaewQO2RTND",
        "colab_type": "text"
      },
      "source": [
        "### **Q4. Há *outliers* presentes?**\n"
      ]
    },
    {
      "cell_type": "markdown",
      "metadata": {
        "id": "BAU02rXnReyV",
        "colab_type": "text"
      },
      "source": [
        "**Outliers** são valores aberrantes, atípicos quando comparados com os valores de uma variável.\n",
        "\n",
        "Analisando o histograma acima, podemos observar que para a variável `minimum_nights` que representa o mínimo de noites para se reservar, chega a cerca de 1000 dias, o que não é comum, já que normalmente as pessoas buscam o Airbnb para utilizar o imóvel durante um curto período de tempo. Logo, esse valor alto para o mínimo de noites nos indica a presença de *outliers* nessa variável.\n",
        "\n",
        "Ademais, analisando a variável price, podemos observar que ela chega a algo próximo de 125000,00 R$, o que também indica a presença de *outliers*, já que outro motivo da procura do Airbnb é ter preços mais baixos que outras opções de hospedagem. \n",
        "\n",
        "Vamos agora tratar os outliers dessas duas variáveis. "
      ]
    },
    {
      "cell_type": "markdown",
      "metadata": {
        "id": "nHe1zf2TImXX",
        "colab_type": "text"
      },
      "source": [
        "Podemos ver um **resumo estatístico** dessas variáveis utilizando o método `describe()`. Fazendo isso para as duas variáveis obtemos o seguinte resultado:"
      ]
    },
    {
      "cell_type": "code",
      "metadata": {
        "id": "34nUD4klTjhp",
        "colab_type": "code",
        "colab": {
          "base_uri": "https://localhost:8080/",
          "height": 297
        },
        "outputId": "a1644c0a-da92-4e24-c001-190fe9e82f28"
      },
      "source": [
        "# ver o resumo estatístico dessas duas variáveis numéricas\n",
        "df[['price', 'minimum_nights']].describe()"
      ],
      "execution_count": 44,
      "outputs": [
        {
          "output_type": "execute_result",
          "data": {
            "text/html": [
              "<div>\n",
              "<style scoped>\n",
              "    .dataframe tbody tr th:only-of-type {\n",
              "        vertical-align: middle;\n",
              "    }\n",
              "\n",
              "    .dataframe tbody tr th {\n",
              "        vertical-align: top;\n",
              "    }\n",
              "\n",
              "    .dataframe thead th {\n",
              "        text-align: right;\n",
              "    }\n",
              "</style>\n",
              "<table border=\"1\" class=\"dataframe\">\n",
              "  <thead>\n",
              "    <tr style=\"text-align: right;\">\n",
              "      <th></th>\n",
              "      <th>price</th>\n",
              "      <th>minimum_nights</th>\n",
              "    </tr>\n",
              "  </thead>\n",
              "  <tbody>\n",
              "    <tr>\n",
              "      <th>count</th>\n",
              "      <td>35870.000000</td>\n",
              "      <td>35870.000000</td>\n",
              "    </tr>\n",
              "    <tr>\n",
              "      <th>mean</th>\n",
              "      <td>753.686367</td>\n",
              "      <td>4.781851</td>\n",
              "    </tr>\n",
              "    <tr>\n",
              "      <th>std</th>\n",
              "      <td>2229.366334</td>\n",
              "      <td>22.471085</td>\n",
              "    </tr>\n",
              "    <tr>\n",
              "      <th>min</th>\n",
              "      <td>0.000000</td>\n",
              "      <td>1.000000</td>\n",
              "    </tr>\n",
              "    <tr>\n",
              "      <th>25%</th>\n",
              "      <td>158.000000</td>\n",
              "      <td>1.000000</td>\n",
              "    </tr>\n",
              "    <tr>\n",
              "      <th>50%</th>\n",
              "      <td>298.000000</td>\n",
              "      <td>2.000000</td>\n",
              "    </tr>\n",
              "    <tr>\n",
              "      <th>75%</th>\n",
              "      <td>632.000000</td>\n",
              "      <td>4.000000</td>\n",
              "    </tr>\n",
              "    <tr>\n",
              "      <th>max</th>\n",
              "      <td>131727.000000</td>\n",
              "      <td>1123.000000</td>\n",
              "    </tr>\n",
              "  </tbody>\n",
              "</table>\n",
              "</div>"
            ],
            "text/plain": [
              "               price  minimum_nights\n",
              "count   35870.000000    35870.000000\n",
              "mean      753.686367        4.781851\n",
              "std      2229.366334       22.471085\n",
              "min         0.000000        1.000000\n",
              "25%       158.000000        1.000000\n",
              "50%       298.000000        2.000000\n",
              "75%       632.000000        4.000000\n",
              "max    131727.000000     1123.000000"
            ]
          },
          "metadata": {
            "tags": []
          },
          "execution_count": 44
        }
      ]
    },
    {
      "cell_type": "code",
      "metadata": {
        "id": "U_ukAgiOjwNH",
        "colab_type": "code",
        "colab": {}
      },
      "source": [
        ""
      ],
      "execution_count": 44,
      "outputs": []
    },
    {
      "cell_type": "markdown",
      "metadata": {
        "id": "rMIQRypaiUyX",
        "colab_type": "text"
      },
      "source": [
        "Através do resumo estatístico mostrado acima podemos observar que 75% dos valores da variável `price` estão abaixo de 632, porém o seu valor máximo é 131727. Para a variável `minimum_nights`, 75% dos seus valores estão abaixo de 4, porém seu valor máximo é 1123. Observe que esses valores máximos representam **outliers**, já ques são valores muito distantes da grande maioria dos valores.\n",
        "\n",
        "Para visualizar os *outliers* podemos gerar um **boxplot** da variável. Vamos analisar primeiramente a váriavel `price`. O boxplot é um gráfico que nos permite visualizar a distribuição dos dados. A partir deles conseguimos visualizar os outliers."
      ]
    },
    {
      "cell_type": "markdown",
      "metadata": {
        "id": "UYizfbMJnXXv",
        "colab_type": "text"
      },
      "source": [
        "Boxplot para a variável `price`."
      ]
    },
    {
      "cell_type": "code",
      "metadata": {
        "id": "JKZulGvkmjp_",
        "colab_type": "code",
        "colab": {
          "base_uri": "https://localhost:8080/",
          "height": 230
        },
        "outputId": "b28ed5d5-5d56-47db-f33a-6177f47f0ff3"
      },
      "source": [
        "df.price.plot(kind = 'box', vert= False, showfliers=True,figsize=(15,3), grid = False)"
      ],
      "execution_count": 45,
      "outputs": [
        {
          "output_type": "execute_result",
          "data": {
            "text/plain": [
              "<matplotlib.axes._subplots.AxesSubplot at 0x7fa2f4ba5b00>"
            ]
          },
          "metadata": {
            "tags": []
          },
          "execution_count": 45
        },
        {
          "output_type": "display_data",
          "data": {
            "image/png": "[encoded data removed]",
            "text/plain": [
              "<Figure size 1080x216 with 1 Axes>"
            ]
          },
          "metadata": {
            "tags": [],
            "needs_background": "light"
          }
        }
      ]
    },
    {
      "cell_type": "markdown",
      "metadata": {
        "id": "OM-w7RHKJTzU",
        "colab_type": "text"
      },
      "source": [
        "Todos os pontos pretos representam os outliers utilizando a análise do boxplot. Para visualizar o boxplot sem os outliers podemos adicionar o comando `showfliers = False` na função plot."
      ]
    },
    {
      "cell_type": "markdown",
      "metadata": {
        "id": "bFraGCS3ncCX",
        "colab_type": "text"
      },
      "source": [
        "Boxplot sem os **outliers**."
      ]
    },
    {
      "cell_type": "code",
      "metadata": {
        "id": "OGzYSCuFj2a8",
        "colab_type": "code",
        "colab": {
          "base_uri": "https://localhost:8080/",
          "height": 213
        },
        "outputId": "3cb5c6fc-1052-4713-d788-085cf8f90c4a"
      },
      "source": [
        "df.price.plot(kind = 'box', vert= False, showfliers=False,figsize=(15,3), grid= False);"
      ],
      "execution_count": 46,
      "outputs": [
        {
          "output_type": "display_data",
          "data": {
            "image/png": "[encoded data removed]",
            "text/plain": [
              "<Figure size 1080x216 with 1 Axes>"
            ]
          },
          "metadata": {
            "tags": [],
            "needs_background": "light"
          }
        }
      ]
    },
    {
      "cell_type": "markdown",
      "metadata": {
        "id": "7yuVWytXnqZn",
        "colab_type": "text"
      },
      "source": [
        "Podemos calcular os limites definidos pelo boxplot para eliminar os outliers. "
      ]
    },
    {
      "cell_type": "code",
      "metadata": {
        "id": "o76oLP-IoGIq",
        "colab_type": "code",
        "colab": {
          "base_uri": "https://localhost:8080/",
          "height": 51
        },
        "outputId": "7fb4d804-62d5-43d3-d695-c38d798e3d4a"
      },
      "source": [
        "# calculando os quartis\n",
        "q1_price = df.price.quantile(.25) # primeiro quartil\n",
        "q3_price = df.price.quantile(.75) # terceiro quartil\n",
        "IQR_price = q3_price - q1_price\n",
        "\n",
        "#definindo os limites\n",
        "sup_price = q3_price + 1.5 * IQR_price\n",
        "inf_price = q1_price - 1.5 * IQR_price\n",
        "\n",
        "print('Limite superior de price:', sup_price)\n",
        "print('Limite inferior de price:', inf_price)\n",
        "\n",
        "\n",
        "\n"
      ],
      "execution_count": 47,
      "outputs": [
        {
          "output_type": "stream",
          "text": [
            "Limite superior de price: 1343.0\n",
            "Limite inferior de price: -553.0\n"
          ],
          "name": "stdout"
        }
      ]
    },
    {
      "cell_type": "markdown",
      "metadata": {
        "id": "PwBLvFwpKqef",
        "colab_type": "text"
      },
      "source": [
        "O limite superior definido pelo boxplot é 1343, assim, irei eliminar da coluna `price` todos os valores superiores a 1343. Não iremos trabalhar com o limite inferior já que os dados da vairável `price` são todos positivos."
      ]
    },
    {
      "cell_type": "code",
      "metadata": {
        "id": "H9qmgSPtwT5B",
        "colab_type": "code",
        "colab": {}
      },
      "source": [
        "# eliminando os outliers\n",
        "df_clean = df.copy()\n",
        "df_clean.drop(df_clean[df_clean.price > 1343.0].index, axis = 0, inplace = True)\n",
        "# removendo valores nulos\n",
        "df_clean.drop(df_clean[df_clean.price == 0.0].index, axis = 0, inplace = True)\n"
      ],
      "execution_count": 48,
      "outputs": []
    },
    {
      "cell_type": "markdown",
      "metadata": {
        "id": "Mc2zVAgbxKzi",
        "colab_type": "text"
      },
      "source": [
        "Veja que agora podemos extrair informações da distribuição dessa variável plotando o seu histograma\n"
      ]
    },
    {
      "cell_type": "code",
      "metadata": {
        "id": "rsHDpa6zxVLH",
        "colab_type": "code",
        "colab": {
          "base_uri": "https://localhost:8080/",
          "height": 268
        },
        "outputId": "6c1c5214-b9f1-450c-d41a-9d4a820a355c"
      },
      "source": [
        "df_clean.price.hist(grid=False)\n",
        "\n",
        "sns.set_style()\n",
        "plt.show()"
      ],
      "execution_count": 49,
      "outputs": [
        {
          "output_type": "display_data",
          "data": {
            "image/png": "[encoded data removed]",
            "text/plain": [
              "<Figure size 432x288 with 1 Axes>"
            ]
          },
          "metadata": {
            "tags": [],
            "needs_background": "light"
          }
        }
      ]
    },
    {
      "cell_type": "markdown",
      "metadata": {
        "id": "V0pMi5MWxk8C",
        "colab_type": "text"
      },
      "source": [
        "Assim, podemos observar que a maior parte dos imóveis tem uma diária de até 400,00R$."
      ]
    },
    {
      "cell_type": "markdown",
      "metadata": {
        "id": "3kIYxhiVnhmu",
        "colab_type": "text"
      },
      "source": [
        "Iremos analisar agora a variável `minimum_nights`."
      ]
    },
    {
      "cell_type": "markdown",
      "metadata": {
        "id": "MmABU4mFLyPD",
        "colab_type": "text"
      },
      "source": [
        "Iremos proceder de maneira análoga ao que fizemos com a variável `price`.\n",
        "\n",
        "Plotando o boxplot encontramos:"
      ]
    },
    {
      "cell_type": "code",
      "metadata": {
        "id": "6yBY8wDvmvQj",
        "colab_type": "code",
        "colab": {
          "base_uri": "https://localhost:8080/",
          "height": 230
        },
        "outputId": "f2fa4c18-23aa-43fb-ee2a-2a25a607c628"
      },
      "source": [
        "df.minimum_nights.plot(kind = 'box', vert= False, showfliers=True,figsize=(15,3), grid = False)"
      ],
      "execution_count": 50,
      "outputs": [
        {
          "output_type": "execute_result",
          "data": {
            "text/plain": [
              "<matplotlib.axes._subplots.AxesSubplot at 0x7fa2f05759e8>"
            ]
          },
          "metadata": {
            "tags": []
          },
          "execution_count": 50
        },
        {
          "output_type": "display_data",
          "data": {
            "image/png": "[encoded data removed]",
            "text/plain": [
              "<Figure size 1080x216 with 1 Axes>"
            ]
          },
          "metadata": {
            "tags": [],
            "needs_background": "light"
          }
        }
      ]
    },
    {
      "cell_type": "markdown",
      "metadata": {
        "id": "FNzY7VeiMDZj",
        "colab_type": "text"
      },
      "source": [
        "Para não visualizar os outliers vamos usar o comando `showfliers = False`."
      ]
    },
    {
      "cell_type": "code",
      "metadata": {
        "id": "Z_iZzuWYm5XG",
        "colab_type": "code",
        "colab": {
          "base_uri": "https://localhost:8080/",
          "height": 230
        },
        "outputId": "cf7d3837-3620-42dd-ef7f-b66f70c9d516"
      },
      "source": [
        "df.minimum_nights.plot(kind = 'box', vert= False, showfliers=False,figsize=(15,3), grid = False)"
      ],
      "execution_count": 51,
      "outputs": [
        {
          "output_type": "execute_result",
          "data": {
            "text/plain": [
              "<matplotlib.axes._subplots.AxesSubplot at 0x7fa2f04d6ef0>"
            ]
          },
          "metadata": {
            "tags": []
          },
          "execution_count": 51
        },
        {
          "output_type": "display_data",
          "data": {
            "image/png": "[encoded data removed]",
            "text/plain": [
              "<Figure size 1080x216 with 1 Axes>"
            ]
          },
          "metadata": {
            "tags": [],
            "needs_background": "light"
          }
        }
      ]
    },
    {
      "cell_type": "markdown",
      "metadata": {
        "id": "By52EHyqMRPM",
        "colab_type": "text"
      },
      "source": [
        "Calculando os limites definidos pelo boxplot."
      ]
    },
    {
      "cell_type": "code",
      "metadata": {
        "id": "l50UKhOJhvad",
        "colab_type": "code",
        "colab": {
          "base_uri": "https://localhost:8080/",
          "height": 51
        },
        "outputId": "3060bd52-7402-40d8-89e2-e90b84af59b2"
      },
      "source": [
        "# calculando os quartis\n",
        "q1_minimum_nights = df.minimum_nights.quantile(.25) # primeiro quartil\n",
        "q3_minimum_nights = df.minimum_nights.quantile(.75) # terceiro quartil\n",
        "\n",
        "IQR_minimum_nights = q3_minimum_nights - q1_minimum_nights\n",
        "\n",
        "# definindo os valores superiores e inferiores\n",
        "sup_minimum_nights = q3_minimum_nights + 1.5* IQR_minimum_nights\n",
        "inf_minimum_nights = q1_minimum_nights - 1.5 * IQR_minimum_nights\n",
        "\n",
        "print('Limite superior:' ,sup_minimum_nights)\n",
        "print('Limite inferior:' ,inf_minimum_nights)"
      ],
      "execution_count": 52,
      "outputs": [
        {
          "output_type": "stream",
          "text": [
            "Limite superior: 8.5\n",
            "Limite inferior: -3.5\n"
          ],
          "name": "stdout"
        }
      ]
    },
    {
      "cell_type": "markdown",
      "metadata": {
        "id": "Fryl-3g30BPE",
        "colab_type": "text"
      },
      "source": [
        "Iremos agora eliminar os outliers, que são os dados maiores que o limite superior expresso pelo boxplot."
      ]
    },
    {
      "cell_type": "code",
      "metadata": {
        "id": "MpNnwHow0Et-",
        "colab_type": "code",
        "colab": {}
      },
      "source": [
        "# Eliminando os outliers da variável 'minimum_nights'.\n",
        "df_clean.drop(df_clean[df_clean.minimum_nights > 8.5].index, axis = 0, inplace = True)\n"
      ],
      "execution_count": 53,
      "outputs": []
    },
    {
      "cell_type": "markdown",
      "metadata": {
        "id": "IBUdE1tR0-Sn",
        "colab_type": "text"
      },
      "source": [
        "Plotando o histograma da variável `minimum_nights` agora:\n"
      ]
    },
    {
      "cell_type": "code",
      "metadata": {
        "id": "zYyKvqYr1Csy",
        "colab_type": "code",
        "colab": {
          "base_uri": "https://localhost:8080/",
          "height": 268
        },
        "outputId": "d083b811-f7e6-42c5-c746-a16b4fc5c8ef"
      },
      "source": [
        "df_clean.minimum_nights.hist(bins=15, grid=False);\n"
      ],
      "execution_count": 54,
      "outputs": [
        {
          "output_type": "display_data",
          "data": {
            "image/png": "[encoded data removed]",
            "text/plain": [
              "<Figure size 432x288 with 1 Axes>"
            ]
          },
          "metadata": {
            "tags": [],
            "needs_background": "light"
          }
        }
      ]
    },
    {
      "cell_type": "markdown",
      "metadata": {
        "id": "SBd4KT5h2Jph",
        "colab_type": "text"
      },
      "source": [
        "Assim podemos observar que na maior parte dos imóveis o tempo mínimo de dias é de até 3 dias. O que não conseguíamos observar no histograma com os *outliers*.\n"
      ]
    },
    {
      "cell_type": "markdown",
      "metadata": {
        "id": "7x4aw1j5wNmn",
        "colab_type": "text"
      },
      "source": [
        "### **Q5. Qual a média dos preços de aluguel?**"
      ]
    },
    {
      "cell_type": "code",
      "metadata": {
        "id": "ff-8gUahLk-C",
        "colab_type": "code",
        "colab": {
          "base_uri": "https://localhost:8080/",
          "height": 85
        },
        "outputId": "3a094347-34d2-46e3-80a1-066cc0090cff"
      },
      "source": [
        "# ver a média da coluna `price``\n",
        "print('O preço médio é: %i'  %df.price.mean())\n",
        "print('A mediana dos preços é:%i' %df.price.median())\n",
        "print('O preço médio sem os outliers é:%i ' %df_clean.price.mean())\n",
        "print('A mediana dos preços sem os outliers é:%i' %df_clean.price.median())\n",
        "\n"
      ],
      "execution_count": 55,
      "outputs": [
        {
          "output_type": "stream",
          "text": [
            "O preço médio é: 753\n",
            "A mediana dos preços é:298\n",
            "O preço médio sem os outliers é:350 \n",
            "A mediana dos preços sem os outliers é:250\n"
          ],
          "name": "stdout"
        }
      ]
    },
    {
      "cell_type": "markdown",
      "metadata": {
        "id": "IXn2oIo5qx-w",
        "colab_type": "text"
      },
      "source": [
        "### **Q6. Qual a correlação existente entre as variáveis**\n",
        "\n",
        "Para visualizar qual a correlação entre as variáveis de um *DataFrame*, podemos plotar um heatmap a partir da matriz de correlação das variáveis."
      ]
    },
    {
      "cell_type": "code",
      "metadata": {
        "id": "x2ayzBajqxyd",
        "colab_type": "code",
        "colab": {
          "base_uri": "https://localhost:8080/",
          "height": 430
        },
        "outputId": "84d99285-f5a4-4d40-9724-ae81922cf42d"
      },
      "source": [
        "# criar uma matriz de correlação\n",
        "corr = df_clean[['price', 'minimum_nights', 'number_of_reviews', 'reviews_per_month', \n",
        "                 'calculated_host_listings_count', 'availability_365']].corr()\n",
        "\n",
        "# mostrar a matriz de correlação\n",
        "#display(corr)\n",
        "\n",
        "# plotar um heatmap a partir das correlações\n",
        "sns.heatmap(corr, cmap='RdBu', fmt='.2f', square=True, linecolor='white', annot=True);"
      ],
      "execution_count": 56,
      "outputs": [
        {
          "output_type": "display_data",
          "data": {
            "image/png": "[encoded data removed]",
            "text/plain": [
              "<Figure size 432x288 with 2 Axes>"
            ]
          },
          "metadata": {
            "tags": [],
            "needs_background": "light"
          }
        }
      ]
    },
    {
      "cell_type": "markdown",
      "metadata": {
        "id": "k1HcaLjbTd82",
        "colab_type": "text"
      },
      "source": [
        "Através do heatmap acima podemos observar que não há correlação significativa entre essas variáveis."
      ]
    },
    {
      "cell_type": "markdown",
      "metadata": {
        "id": "7b6RMWpuHKN-",
        "colab_type": "text"
      },
      "source": [
        "### **Q7. Qual o tipo de imóvel mais alugado no Airbnb?**\n",
        "\n",
        "Para saber qual é o imóvel mais alugado no Airbnb podemos utilizar o método `value_counts()` na variável `room_type`."
      ]
    },
    {
      "cell_type": "code",
      "metadata": {
        "id": "ueLPNWvPHgfB",
        "colab_type": "code",
        "colab": {
          "base_uri": "https://localhost:8080/",
          "height": 102
        },
        "outputId": "661a6de0-c1ff-4cae-ef39-6013af55214f"
      },
      "source": [
        "# mostrar a quantidade de cada tipo de imóvel disponível\n",
        "df_clean.room_type.value_counts()\n"
      ],
      "execution_count": 57,
      "outputs": [
        {
          "output_type": "execute_result",
          "data": {
            "text/plain": [
              "Entire home/apt    20593\n",
              "Private room        8647\n",
              "Shared room          721\n",
              "Hotel room           156\n",
              "Name: room_type, dtype: int64"
            ]
          },
          "metadata": {
            "tags": []
          },
          "execution_count": 57
        }
      ]
    },
    {
      "cell_type": "markdown",
      "metadata": {
        "id": "gHzOLbvBObAD",
        "colab_type": "text"
      },
      "source": [
        "A partir do resultado acima vemos que o imóvel mais alugado é o `Entire home/apt`. Que representa a casa ou apartamento inteiro."
      ]
    },
    {
      "cell_type": "markdown",
      "metadata": {
        "id": "NdEtY_fnPD01",
        "colab_type": "text"
      },
      "source": [
        "Podemos também ver a porcentagem referente a cada um desses tipos de imóveis."
      ]
    },
    {
      "cell_type": "code",
      "metadata": {
        "id": "EvwoO-XAHhIm",
        "colab_type": "code",
        "colab": {
          "base_uri": "https://localhost:8080/",
          "height": 102
        },
        "outputId": "2e28df5c-18d2-48ec-e9d4-5ce3a565b997"
      },
      "source": [
        "# mostrar a porcentagem de cada tipo de imóvel disponível\n",
        "df_clean.room_type.value_counts() / df_clean.shape[0]"
      ],
      "execution_count": 58,
      "outputs": [
        {
          "output_type": "execute_result",
          "data": {
            "text/plain": [
              "Entire home/apt    0.683767\n",
              "Private room       0.287114\n",
              "Shared room        0.023940\n",
              "Hotel room         0.005180\n",
              "Name: room_type, dtype: float64"
            ]
          },
          "metadata": {
            "tags": []
          },
          "execution_count": 58
        }
      ]
    },
    {
      "cell_type": "markdown",
      "metadata": {
        "id": "vTneAMRUYvr1",
        "colab_type": "text"
      },
      "source": [
        "### **Q8 Qual é a média do mínimo de noites para aluguel (minimum_nights)?**"
      ]
    },
    {
      "cell_type": "code",
      "metadata": {
        "id": "_VzNhrEgY82N",
        "colab_type": "code",
        "colab": {
          "base_uri": "https://localhost:8080/",
          "height": 51
        },
        "outputId": "2dc9871e-a55e-4d1d-fcbf-37370d3e4d2b"
      },
      "source": [
        "# ver a média da coluna `minimum_nights`\n",
        "print('Média das noites mínimas de aluguel',df_clean.minimum_nights.mean())\n",
        "print('Mediana das noites mínimas de aluguel', df_clean.minimum_nights.median())"
      ],
      "execution_count": 59,
      "outputs": [
        {
          "output_type": "stream",
          "text": [
            "Média das noites mínimas de aluguel 2.6225387654812895\n",
            "Mediana das noites mínimas de aluguel 2.0\n"
          ],
          "name": "stdout"
        }
      ]
    },
    {
      "cell_type": "markdown",
      "metadata": {
        "id": "8vmRP2c6T_wH",
        "colab_type": "text"
      },
      "source": [
        "Assim, arredondando, a média do mínimo de noites e de aproximadamente 3."
      ]
    },
    {
      "cell_type": "markdown",
      "metadata": {
        "id": "WBSYwa2zUIm-",
        "colab_type": "text"
      },
      "source": [
        "Podemos também plotar os imóveis pela latitude e longitude para observar a distribuição geogáfica dos imóveis. As cores são definidas de acordo com o seu preço de aluguel."
      ]
    },
    {
      "cell_type": "code",
      "metadata": {
        "id": "UxVJqJ_3W59I",
        "colab_type": "code",
        "colab": {
          "base_uri": "https://localhost:8080/",
          "height": 466
        },
        "outputId": "ea03a732-dc2e-4040-a6e6-810b636fa445"
      },
      "source": [
        "# plotar os imóveis pela latitude-longitude\n",
        "df_clean.plot(kind = \"scatter\", x = 'longitude', y = 'latitude', alpha = 0.4, c = df_clean['price'], s=8,\n",
        "              cmap=plt.get_cmap('jet'), figsize=(12,8));\n",
        "               \n"
      ],
      "execution_count": 60,
      "outputs": [
        {
          "output_type": "display_data",
          "data": {
            "image/png": "[encoded data removed]",
            "text/plain": [
              "<Figure size 864x576 with 2 Axes>"
            ]
          },
          "metadata": {
            "tags": [],
            "needs_background": "light"
          }
        }
      ]
    },
    {
      "cell_type": "markdown",
      "metadata": {
        "id": "6A_1ovNwzz6j",
        "colab_type": "text"
      },
      "source": [
        "### Preço médio por bairro\n"
      ]
    },
    {
      "cell_type": "markdown",
      "metadata": {
        "id": "D885VFd38oRS",
        "colab_type": "text"
      },
      "source": [
        "Uma forma de saber o preço médio por bairro é utilizar o comando `groupby()`. O utilizando na coluna `neighbourhood` que representa os  bairros obtemos o seguinte resultado:"
      ]
    },
    {
      "cell_type": "code",
      "metadata": {
        "id": "ykEjSQlX84Wp",
        "colab_type": "code",
        "colab": {
          "base_uri": "https://localhost:8080/",
          "height": 221
        },
        "outputId": "5c50dbd8-7c1e-4799-f030-7def309c649e"
      },
      "source": [
        "df_clean.groupby(['neighbourhood']).price.mean().sort_values(ascending=False)[:10]"
      ],
      "execution_count": 61,
      "outputs": [
        {
          "output_type": "execute_result",
          "data": {
            "text/plain": [
              "neighbourhood\n",
              "Vaz Lobo                  649.000000\n",
              "Ricardo de Albuquerque    601.200000\n",
              "Lagoa                     495.940199\n",
              "Deodoro                   474.000000\n",
              "Inhoaíba                  466.000000\n",
              "Leblon                    462.512048\n",
              "Pedra de Guaratiba        454.714286\n",
              "Ipanema                   442.127791\n",
              "Pavuna                    436.000000\n",
              "Barra da Tijuca           431.110730\n",
              "Name: price, dtype: float64"
            ]
          },
          "metadata": {
            "tags": []
          },
          "execution_count": 61
        }
      ]
    },
    {
      "cell_type": "markdown",
      "metadata": {
        "id": "ek8YfzKJ9EFu",
        "colab_type": "text"
      },
      "source": [
        "Contudo, essas informações realmente são condizentes com a realidade? Vaz Lobo é o bairro mais caro do Rio de Janeiro? Sabemos que a resposta para essa pergunta é não. Uma forma de saber isso é utilizar ao invés do método `mean()`, que nesse caso nos fornece o preço médio, utilizar o método `describe()`, que nos fornece a média e outras informações estatíticas interessantes. Veja abaixo qual seria o **resultado** utilizando o método `describe()`."
      ]
    },
    {
      "cell_type": "code",
      "metadata": {
        "id": "XVUvfp138ckz",
        "colab_type": "code",
        "colab": {
          "base_uri": "https://localhost:8080/",
          "height": 390
        },
        "outputId": "e5ec1bef-5c08-4cb6-82e6-819bb428d8e2"
      },
      "source": [
        "describem = df_clean.groupby(['neighbourhood']).price.describe().sort_values(by = 'mean', ascending = False )[0:10].copy()\n",
        "\n",
        "#describe.drop('25%', axis = 1, inplace = True)\n",
        "describem.rename(columns={'std': 'Desvio-Padrão', 'mean': 'Valor médio', 'count': 'Nº de imóveis'}, inplace = True)\n",
        "describem.head(10)"
      ],
      "execution_count": 62,
      "outputs": [
        {
          "output_type": "execute_result",
          "data": {
            "text/html": [
              "<div>\n",
              "<style scoped>\n",
              "    .dataframe tbody tr th:only-of-type {\n",
              "        vertical-align: middle;\n",
              "    }\n",
              "\n",
              "    .dataframe tbody tr th {\n",
              "        vertical-align: top;\n",
              "    }\n",
              "\n",
              "    .dataframe thead th {\n",
              "        text-align: right;\n",
              "    }\n",
              "</style>\n",
              "<table border=\"1\" class=\"dataframe\">\n",
              "  <thead>\n",
              "    <tr style=\"text-align: right;\">\n",
              "      <th></th>\n",
              "      <th>Nº de imóveis</th>\n",
              "      <th>Valor médio</th>\n",
              "      <th>Desvio-Padrão</th>\n",
              "      <th>min</th>\n",
              "      <th>25%</th>\n",
              "      <th>50%</th>\n",
              "      <th>75%</th>\n",
              "      <th>max</th>\n",
              "    </tr>\n",
              "    <tr>\n",
              "      <th>neighbourhood</th>\n",
              "      <th></th>\n",
              "      <th></th>\n",
              "      <th></th>\n",
              "      <th></th>\n",
              "      <th></th>\n",
              "      <th></th>\n",
              "      <th></th>\n",
              "      <th></th>\n",
              "    </tr>\n",
              "  </thead>\n",
              "  <tbody>\n",
              "    <tr>\n",
              "      <th>Vaz Lobo</th>\n",
              "      <td>2.0</td>\n",
              "      <td>649.000000</td>\n",
              "      <td>496.388960</td>\n",
              "      <td>298.0</td>\n",
              "      <td>473.5</td>\n",
              "      <td>649.0</td>\n",
              "      <td>824.5</td>\n",
              "      <td>1000.0</td>\n",
              "    </tr>\n",
              "    <tr>\n",
              "      <th>Ricardo de Albuquerque</th>\n",
              "      <td>5.0</td>\n",
              "      <td>601.200000</td>\n",
              "      <td>418.323679</td>\n",
              "      <td>122.0</td>\n",
              "      <td>298.0</td>\n",
              "      <td>523.0</td>\n",
              "      <td>1000.0</td>\n",
              "      <td>1063.0</td>\n",
              "    </tr>\n",
              "    <tr>\n",
              "      <th>Lagoa</th>\n",
              "      <td>301.0</td>\n",
              "      <td>495.940199</td>\n",
              "      <td>342.247634</td>\n",
              "      <td>58.0</td>\n",
              "      <td>218.0</td>\n",
              "      <td>393.0</td>\n",
              "      <td>702.0</td>\n",
              "      <td>1317.0</td>\n",
              "    </tr>\n",
              "    <tr>\n",
              "      <th>Deodoro</th>\n",
              "      <td>2.0</td>\n",
              "      <td>474.000000</td>\n",
              "      <td>388.908730</td>\n",
              "      <td>199.0</td>\n",
              "      <td>336.5</td>\n",
              "      <td>474.0</td>\n",
              "      <td>611.5</td>\n",
              "      <td>749.0</td>\n",
              "    </tr>\n",
              "    <tr>\n",
              "      <th>Inhoaíba</th>\n",
              "      <td>3.0</td>\n",
              "      <td>466.000000</td>\n",
              "      <td>517.550964</td>\n",
              "      <td>144.0</td>\n",
              "      <td>167.5</td>\n",
              "      <td>191.0</td>\n",
              "      <td>627.0</td>\n",
              "      <td>1063.0</td>\n",
              "    </tr>\n",
              "    <tr>\n",
              "      <th>Leblon</th>\n",
              "      <td>1328.0</td>\n",
              "      <td>462.512048</td>\n",
              "      <td>279.424462</td>\n",
              "      <td>52.0</td>\n",
              "      <td>250.0</td>\n",
              "      <td>400.0</td>\n",
              "      <td>601.0</td>\n",
              "      <td>1340.0</td>\n",
              "    </tr>\n",
              "    <tr>\n",
              "      <th>Pedra de Guaratiba</th>\n",
              "      <td>14.0</td>\n",
              "      <td>454.714286</td>\n",
              "      <td>430.695221</td>\n",
              "      <td>58.0</td>\n",
              "      <td>130.0</td>\n",
              "      <td>308.5</td>\n",
              "      <td>651.0</td>\n",
              "      <td>1309.0</td>\n",
              "    </tr>\n",
              "    <tr>\n",
              "      <th>Ipanema</th>\n",
              "      <td>2598.0</td>\n",
              "      <td>442.127791</td>\n",
              "      <td>289.833521</td>\n",
              "      <td>32.0</td>\n",
              "      <td>221.0</td>\n",
              "      <td>348.0</td>\n",
              "      <td>600.0</td>\n",
              "      <td>1333.0</td>\n",
              "    </tr>\n",
              "    <tr>\n",
              "      <th>Pavuna</th>\n",
              "      <td>5.0</td>\n",
              "      <td>436.000000</td>\n",
              "      <td>363.857115</td>\n",
              "      <td>133.0</td>\n",
              "      <td>250.0</td>\n",
              "      <td>351.0</td>\n",
              "      <td>383.0</td>\n",
              "      <td>1063.0</td>\n",
              "    </tr>\n",
              "    <tr>\n",
              "      <th>Barra da Tijuca</th>\n",
              "      <td>2917.0</td>\n",
              "      <td>431.110730</td>\n",
              "      <td>300.930336</td>\n",
              "      <td>43.0</td>\n",
              "      <td>202.0</td>\n",
              "      <td>330.0</td>\n",
              "      <td>585.0</td>\n",
              "      <td>1329.0</td>\n",
              "    </tr>\n",
              "  </tbody>\n",
              "</table>\n",
              "</div>"
            ],
            "text/plain": [
              "                        Nº de imóveis  Valor médio  ...     75%     max\n",
              "neighbourhood                                       ...                \n",
              "Vaz Lobo                          2.0   649.000000  ...   824.5  1000.0\n",
              "Ricardo de Albuquerque            5.0   601.200000  ...  1000.0  1063.0\n",
              "Lagoa                           301.0   495.940199  ...   702.0  1317.0\n",
              "Deodoro                           2.0   474.000000  ...   611.5   749.0\n",
              "Inhoaíba                          3.0   466.000000  ...   627.0  1063.0\n",
              "Leblon                         1328.0   462.512048  ...   601.0  1340.0\n",
              "Pedra de Guaratiba               14.0   454.714286  ...   651.0  1309.0\n",
              "Ipanema                        2598.0   442.127791  ...   600.0  1333.0\n",
              "Pavuna                            5.0   436.000000  ...   383.0  1063.0\n",
              "Barra da Tijuca                2917.0   431.110730  ...   585.0  1329.0\n",
              "\n",
              "[10 rows x 8 columns]"
            ]
          },
          "metadata": {
            "tags": []
          },
          "execution_count": 62
        }
      ]
    },
    {
      "cell_type": "markdown",
      "metadata": {
        "id": "QkUDH_lo9lBi",
        "colab_type": "text"
      },
      "source": [
        "Observe que apesar de Vaz Lobo ter o maior preço médio, há apenas dois imóveis nesse local, logo, como não temos uma grande quantidade de imóveis o preço médio não nos fornece uma informação significativa. Veja que analisando o preço máximo, Ipanema tem um preço máximo consideravelmente maior. \n",
        "\n",
        "Sendo assim, como um número maior de imóveis nos fornece informações mais confiáveis sobre os dados, podemos ordenar o dataframe dos bairros, pelo número de imóveis em cada bairro e depois ordená-los pelo preço médio. Assim, obtemos o resultado abaixo:"
      ]
    },
    {
      "cell_type": "code",
      "metadata": {
        "id": "yky_GihI0u1C",
        "colab_type": "code",
        "colab": {
          "base_uri": "https://localhost:8080/",
          "height": 390
        },
        "outputId": "b023a794-3945-41c5-f725-873d112068a4"
      },
      "source": [
        "describec = df_clean.groupby(['neighbourhood']).price.describe().sort_values(by = 'count', ascending = False )[0:10].copy()\n",
        "\n",
        "#describe.drop('25%', axis = 1, inplace = True)\n",
        "describec.rename(columns={'std': 'Desvio-Padrão', 'mean': 'Valor médio', 'count': 'Nº de imóveis'}, inplace = True)\n",
        "describec.sort_values(by = \"Valor médio\", ascending = False).head(10)"
      ],
      "execution_count": 68,
      "outputs": [
        {
          "output_type": "execute_result",
          "data": {
            "text/html": [
              "<div>\n",
              "<style scoped>\n",
              "    .dataframe tbody tr th:only-of-type {\n",
              "        vertical-align: middle;\n",
              "    }\n",
              "\n",
              "    .dataframe tbody tr th {\n",
              "        vertical-align: top;\n",
              "    }\n",
              "\n",
              "    .dataframe thead th {\n",
              "        text-align: right;\n",
              "    }\n",
              "</style>\n",
              "<table border=\"1\" class=\"dataframe\">\n",
              "  <thead>\n",
              "    <tr style=\"text-align: right;\">\n",
              "      <th></th>\n",
              "      <th>Nº de imóveis</th>\n",
              "      <th>Valor médio</th>\n",
              "      <th>Desvio-Padrão</th>\n",
              "      <th>min</th>\n",
              "      <th>25%</th>\n",
              "      <th>50%</th>\n",
              "      <th>75%</th>\n",
              "      <th>max</th>\n",
              "    </tr>\n",
              "    <tr>\n",
              "      <th>neighbourhood</th>\n",
              "      <th></th>\n",
              "      <th></th>\n",
              "      <th></th>\n",
              "      <th></th>\n",
              "      <th></th>\n",
              "      <th></th>\n",
              "      <th></th>\n",
              "      <th></th>\n",
              "    </tr>\n",
              "  </thead>\n",
              "  <tbody>\n",
              "    <tr>\n",
              "      <th>Leblon</th>\n",
              "      <td>1328.0</td>\n",
              "      <td>462.512048</td>\n",
              "      <td>279.424462</td>\n",
              "      <td>52.0</td>\n",
              "      <td>250.00</td>\n",
              "      <td>400.0</td>\n",
              "      <td>601.0</td>\n",
              "      <td>1340.0</td>\n",
              "    </tr>\n",
              "    <tr>\n",
              "      <th>Ipanema</th>\n",
              "      <td>2598.0</td>\n",
              "      <td>442.127791</td>\n",
              "      <td>289.833521</td>\n",
              "      <td>32.0</td>\n",
              "      <td>221.00</td>\n",
              "      <td>348.0</td>\n",
              "      <td>600.0</td>\n",
              "      <td>1333.0</td>\n",
              "    </tr>\n",
              "    <tr>\n",
              "      <th>Barra da Tijuca</th>\n",
              "      <td>2917.0</td>\n",
              "      <td>431.110730</td>\n",
              "      <td>300.930336</td>\n",
              "      <td>43.0</td>\n",
              "      <td>202.00</td>\n",
              "      <td>330.0</td>\n",
              "      <td>585.0</td>\n",
              "      <td>1329.0</td>\n",
              "    </tr>\n",
              "    <tr>\n",
              "      <th>Jacarepaguá</th>\n",
              "      <td>1495.0</td>\n",
              "      <td>397.442140</td>\n",
              "      <td>314.617888</td>\n",
              "      <td>42.0</td>\n",
              "      <td>149.00</td>\n",
              "      <td>290.0</td>\n",
              "      <td>548.0</td>\n",
              "      <td>1329.0</td>\n",
              "    </tr>\n",
              "    <tr>\n",
              "      <th>Recreio dos Bandeirantes</th>\n",
              "      <td>1288.0</td>\n",
              "      <td>396.519410</td>\n",
              "      <td>304.432402</td>\n",
              "      <td>31.0</td>\n",
              "      <td>162.75</td>\n",
              "      <td>298.0</td>\n",
              "      <td>502.0</td>\n",
              "      <td>1329.0</td>\n",
              "    </tr>\n",
              "    <tr>\n",
              "      <th>Copacabana</th>\n",
              "      <td>8484.0</td>\n",
              "      <td>330.948845</td>\n",
              "      <td>253.894901</td>\n",
              "      <td>32.0</td>\n",
              "      <td>153.00</td>\n",
              "      <td>248.0</td>\n",
              "      <td>400.0</td>\n",
              "      <td>1329.0</td>\n",
              "    </tr>\n",
              "    <tr>\n",
              "      <th>Botafogo</th>\n",
              "      <td>1574.0</td>\n",
              "      <td>299.998729</td>\n",
              "      <td>253.532650</td>\n",
              "      <td>37.0</td>\n",
              "      <td>123.00</td>\n",
              "      <td>202.0</td>\n",
              "      <td>398.0</td>\n",
              "      <td>1329.0</td>\n",
              "    </tr>\n",
              "    <tr>\n",
              "      <th>Flamengo</th>\n",
              "      <td>789.0</td>\n",
              "      <td>291.475285</td>\n",
              "      <td>248.674141</td>\n",
              "      <td>37.0</td>\n",
              "      <td>121.00</td>\n",
              "      <td>200.0</td>\n",
              "      <td>369.0</td>\n",
              "      <td>1317.0</td>\n",
              "    </tr>\n",
              "    <tr>\n",
              "      <th>Santa Teresa</th>\n",
              "      <td>1069.0</td>\n",
              "      <td>238.663237</td>\n",
              "      <td>210.985899</td>\n",
              "      <td>37.0</td>\n",
              "      <td>100.00</td>\n",
              "      <td>169.0</td>\n",
              "      <td>298.0</td>\n",
              "      <td>1329.0</td>\n",
              "    </tr>\n",
              "    <tr>\n",
              "      <th>Centro</th>\n",
              "      <td>925.0</td>\n",
              "      <td>224.190270</td>\n",
              "      <td>199.769127</td>\n",
              "      <td>32.0</td>\n",
              "      <td>100.00</td>\n",
              "      <td>149.0</td>\n",
              "      <td>272.0</td>\n",
              "      <td>1329.0</td>\n",
              "    </tr>\n",
              "  </tbody>\n",
              "</table>\n",
              "</div>"
            ],
            "text/plain": [
              "                          Nº de imóveis  Valor médio  ...    75%     max\n",
              "neighbourhood                                         ...               \n",
              "Leblon                           1328.0   462.512048  ...  601.0  1340.0\n",
              "Ipanema                          2598.0   442.127791  ...  600.0  1333.0\n",
              "Barra da Tijuca                  2917.0   431.110730  ...  585.0  1329.0\n",
              "Jacarepaguá                      1495.0   397.442140  ...  548.0  1329.0\n",
              "Recreio dos Bandeirantes         1288.0   396.519410  ...  502.0  1329.0\n",
              "Copacabana                       8484.0   330.948845  ...  400.0  1329.0\n",
              "Botafogo                         1574.0   299.998729  ...  398.0  1329.0\n",
              "Flamengo                          789.0   291.475285  ...  369.0  1317.0\n",
              "Santa Teresa                     1069.0   238.663237  ...  298.0  1329.0\n",
              "Centro                            925.0   224.190270  ...  272.0  1329.0\n",
              "\n",
              "[10 rows x 8 columns]"
            ]
          },
          "metadata": {
            "tags": []
          },
          "execution_count": 68
        }
      ]
    },
    {
      "cell_type": "markdown",
      "metadata": {
        "id": "8X9S9RDByF3Z",
        "colab_type": "text"
      },
      "source": [
        "Com essa análise observe que o bairro indicado com o maior preço médio é o Leblon. Um fator relevante a ser observado é que nesse caso o **desvio-padrão** é menor do que na análise anterior, o que indica que essa análise descreve melhor a tendência de preços do bairro, visto que, o desvio-padrão é,  basicamente, uma medida de dispersão dos valores ao redor da média. Assim,  quanto menor o desvio padrão, melhor a média descreve o comportamento de uma variável. \n",
        "\n",
        "Ainda assim, é importante destacar que essa análise não é conclusiva."
      ]
    },
    {
      "cell_type": "markdown",
      "metadata": {
        "id": "GkvAg623RjoR",
        "colab_type": "text"
      },
      "source": [
        "## Conclusões\n",
        "A partir da análise susperficial realizada foi possível concluir que grande parte dos imóveis disponíveis no Airbnb na cidade do Rio de Janeiro, possuem uma diária de até 400,00 R$ e no mínimo 3 noites mínimas para aluguel.\n",
        "\n",
        "Além disso, após desconsiderar os outliers, a média do preço de aluguel é 350,00R\\$ e a sua mediana é 250,00R\\$. Para o número mínimo de noites, a média é de aproximadamente 3 dias e a mediana 2 dias.\n",
        "\n",
        "Ademais, foi possível observar que o imóvel mais alugado pelo Airbnb no Rio de Janeiro é casa/apartamento inteiro e que o número de amostras é muito importantes ao trabalhar com a média de uma variável."
      ]
    },
    {
      "cell_type": "markdown",
      "metadata": {
        "id": "rbZ3Hsy9Ypw8",
        "colab_type": "text"
      },
      "source": [
        ""
      ]
    }
  ]
}